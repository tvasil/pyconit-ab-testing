{
 "cells": [
  {
   "cell_type": "markdown",
   "id": "b8c60392",
   "metadata": {},
   "source": [
    "# Before the test starts\n",
    "\n",
    "In this notebook we will explore the typical work you would do when working with a team to plan an A/B test. \n",
    "\n",
    "All data needed can be found in the directory `data/`. \n",
    "\n",
    "First, let's load all necessary libraries and the data. "
   ]
  },
  {
   "cell_type": "code",
   "execution_count": null,
   "id": "7e0dd035",
   "metadata": {},
   "outputs": [],
   "source": [
    "import numpy as np\n",
    "import pandas as pd\n",
    "\n",
    "import matplotlib.pyplot as plt\n",
    "import seaborn as sns\n",
    "\n",
    "custom_params = {\"axes.spines.right\": False, \"axes.spines.top\": False, 'figure.figsize':(14, 8)}\n",
    "sns.set_theme(style=\"whitegrid\", rc=custom_params, palette='bright')\n",
    "%matplotlib inline"
   ]
  },
  {
   "cell_type": "code",
   "execution_count": null,
   "id": "1ad3352a",
   "metadata": {},
   "outputs": [],
   "source": [
    "sessions = pd.read_csv(\"../data/pre_sessions.csv\", parse_dates=['visit_started_at'])\n",
    "cart_visits = pd.read_csv(\"../data/pre_payment_page_visits.csv\", parse_dates=['payment_page_accessed_at'])\n",
    "purchases = pd.read_csv(\"../data/pre_purchases.csv\", parse_dates=['purchase_processed_at'])"
   ]
  },
  {
   "cell_type": "code",
   "execution_count": null,
   "id": "16363587",
   "metadata": {},
   "outputs": [],
   "source": [
    "print(f\"sessions size: {len(sessions):,} \\npayment_page_visits size: {len(cart_visits):,}\\npurchases size: {len(purchases):,} \")"
   ]
  },
  {
   "cell_type": "code",
   "execution_count": null,
   "id": "17f6110f",
   "metadata": {},
   "outputs": [],
   "source": [
    "## Explore the tables. Do they have a common key to be joined on?"
   ]
  },
  {
   "cell_type": "markdown",
   "id": "2a824220",
   "metadata": {},
   "source": [
    "## Task 1: Help the Product Manager decide on a key decision metric.\n",
    "\n",
    "- Where are we at right now on the different metrics?\n",
    "- Which one do we expect to move the most and by how much?\n",
    "- What would be the material impact of each? $$$"
   ]
  },
  {
   "cell_type": "markdown",
   "id": "7da7ab9b",
   "metadata": {},
   "source": [
    "**How many visitors do we get per day, in general?**\n",
    "- Visualize unique sessions over time\n",
    "- What countries are they from? What platforms?\n",
    "\n",
    "In the end, keep only the data that is relevant to our experiment (IT, ES, Mobile apps)"
   ]
  },
  {
   "cell_type": "code",
   "execution_count": null,
   "id": "f1dd7b23",
   "metadata": {},
   "outputs": [],
   "source": [
    "#Merge the three datasets to create a full picture.\n",
    "\n",
    "df = #TODO"
   ]
  },
  {
   "cell_type": "code",
   "execution_count": null,
   "id": "3a9dede5",
   "metadata": {},
   "outputs": [],
   "source": [
    "def clean_platform(platform:str):\n",
    "    \"\"\"\n",
    "    Returns whether a user is on Android, iOS or any kind of Desktop. Ignores if it's app or mobile web. \n",
    "    \"\"\"\n",
    "    pass"
   ]
  },
  {
   "cell_type": "code",
   "execution_count": null,
   "id": "6dfd8a7b",
   "metadata": {},
   "outputs": [],
   "source": [
    "df['platform_clean'] = #TODO"
   ]
  },
  {
   "cell_type": "code",
   "execution_count": null,
   "id": "fe0e3a15",
   "metadata": {},
   "outputs": [],
   "source": [
    "# Get the unique sessions per date\n",
    "by_date = #TODO\n",
    "sns.lineplot(data=by_date)\n",
    "plt.title(\"Unique sessions per day\", loc='left', size=16)\n",
    "plt.show()"
   ]
  },
  {
   "cell_type": "code",
   "execution_count": null,
   "id": "fd4d686d",
   "metadata": {},
   "outputs": [],
   "source": [
    "# Get the unique sessions by date and country\n",
    "by_date_country = #TODO\n",
    "sns.lineplot(data=by_date_country)\n",
    "plt.title(\"Unique sessions by country, date\", loc='left', size=16)\n",
    "plt.show()"
   ]
  },
  {
   "cell_type": "code",
   "execution_count": null,
   "id": "c6fb08bb",
   "metadata": {},
   "outputs": [],
   "source": []
  },
  {
   "cell_type": "markdown",
   "id": "9ac9502a",
   "metadata": {},
   "source": [
    "Calculate how many unique visits we have per day. How many if we only keep the relevant user subsegment? (IT, ES, Mobile devices). "
   ]
  },
  {
   "cell_type": "code",
   "execution_count": null,
   "id": "8f66f6d1",
   "metadata": {},
   "outputs": [],
   "source": [
    "daily_visitors = #TODO\n",
    "# Daily session_ids in the last 30 days \n",
    "from datetime import timedelta\n",
    "daily_visitors_recent = #TODO\n",
    "\n",
    "print(f\"On an average day, we have {daily_visitors:.2f} visitors\")\n",
    "print(f\"In the last 30 days, we had on average {daily_visitors_recent:.2f} daily visitors\")"
   ]
  },
  {
   "cell_type": "code",
   "execution_count": null,
   "id": "f169a753",
   "metadata": {},
   "outputs": [],
   "source": [
    "# Create a subset with only the relevant segment (IT, ES, Mobile)\n",
    "subset = #TODO\n",
    "\n",
    "daily_visitors = #TODO\n",
    "daily_visitors_recent = #TODO\n",
    "\n",
    "print(\"IF WE CONSIDER ONLY THE RELEVANT SEGMENT...\")\n",
    "print(f\"On an average day, we have {daily_visitors:.2f} visitors\")\n",
    "print(f\"In the last 30 days, we had on average {daily_visitors_recent:.2f} daily visitors\")"
   ]
  },
  {
   "cell_type": "markdown",
   "id": "9e97fec3",
   "metadata": {},
   "source": [
    "**How many make it to the payment page?**\n",
    "- Describe the payment_page state in general\n",
    "    - What country are the cart visitors from?\n",
    "    - What devices do they come from?\n",
    "    - What is the typical basket volume, value?"
   ]
  },
  {
   "cell_type": "code",
   "execution_count": null,
   "id": "8a9bfec2",
   "metadata": {},
   "outputs": [],
   "source": [
    "by_date_platform = #TODO\n",
    "sns.lineplot(data=by_date_platform)\n",
    "plt.title(\"Daily traffic at the payment page, by platform\", loc='left', size=16)\n",
    "plt.show()"
   ]
  },
  {
   "cell_type": "code",
   "execution_count": null,
   "id": "1de59599",
   "metadata": {},
   "outputs": [],
   "source": [
    "by_date_country = #TODO\n",
    "sns.lineplot(data=by_date_country)\n",
    "plt.title(\"Daily traffic at the payment page by country\")\n",
    "plt.show()"
   ]
  },
  {
   "cell_type": "code",
   "execution_count": null,
   "id": "92372d70",
   "metadata": {},
   "outputs": [],
   "source": [
    "# For those that make it to the payment page, what is the total basket size per day?\n",
    "\n",
    "by_date_country_sum_cart = #TODO\n",
    "sns.lineplot(data=by_date_country_sum_cart)\n",
    "plt.title(\"Daily cart size sum ($) by country\", loc='left', size=16)\n",
    "plt.show()"
   ]
  },
  {
   "cell_type": "markdown",
   "id": "e19e446a",
   "metadata": {},
   "source": [
    "**Summarize per country, device, how many unique sessions we have, the mean and std of the cart size**"
   ]
  },
  {
   "cell_type": "code",
   "execution_count": null,
   "id": "eca089c2",
   "metadata": {},
   "outputs": [],
   "source": [
    "df[~df.payment_page_accessed_at.isna()]\\\n",
    "    .groupby(['country', 'platform_clean'])[['session_id', 'cart_size_eur']]\\\n",
    "    .agg({'session_id': ['count'],\n",
    "          'cart_size_eur': ['mean', 'std']})"
   ]
  },
  {
   "cell_type": "markdown",
   "id": "097523f4",
   "metadata": {},
   "source": [
    "**How many of them are repeat, how many new?**\n",
    "- Look at `last_purchase` column to determine if the user is new or old"
   ]
  },
  {
   "cell_type": "code",
   "execution_count": null,
   "id": "ff6a608f",
   "metadata": {},
   "outputs": [],
   "source": [
    "df['new_repeat'] = df['last_purchase'].apply(#TODO)"
   ]
  },
  {
   "cell_type": "code",
   "execution_count": null,
   "id": "7b54e379",
   "metadata": {},
   "outputs": [],
   "source": [
    "by_date_new_repeat = #TODO\n",
    "sns.lineplot(data=by_date_new_repeat)\n",
    "plt.title(\"Daily traffic by new/repeat status\", loc='left', size=16)\n",
    "plt.show()"
   ]
  },
  {
   "cell_type": "code",
   "execution_count": null,
   "id": "8a0de06a",
   "metadata": {},
   "outputs": [],
   "source": [
    "df.groupby('new_repeat')['session_id'].nunique().plot(kind='bar')\n",
    "plt.title(\"Total sessions done so far by new-repeat status\", loc='left', size=16)\n",
    "plt.show()"
   ]
  },
  {
   "cell_type": "markdown",
   "id": "76050288",
   "metadata": {},
   "source": [
    "**What is the cart conversion rate?**\n",
    "- Does it differ by platform or payment methods used?\n",
    "- What is the payment error rate?\n",
    "\n",
    "Hint: look at the `success` column"
   ]
  },
  {
   "cell_type": "code",
   "execution_count": null,
   "id": "e939c45b",
   "metadata": {},
   "outputs": [],
   "source": [
    "# Calculate a column for conversion rate to purchase for those that accessed the payment page\n",
    "df['converted'] = #TODO\n",
    "# Calculate a column for conversation rate to successful purchase for those that accessed the payment page\n",
    "df['converted_success'] = #TODO"
   ]
  },
  {
   "cell_type": "code",
   "execution_count": null,
   "id": "5dbcfc55",
   "metadata": {},
   "outputs": [],
   "source": [
    "# Summarize the mean and std of those that converted vs those that successfully converted\n",
    "df[~df.payment_page_accessed_at.isna()][#TODO].agg(#TODO)"
   ]
  },
  {
   "cell_type": "code",
   "execution_count": null,
   "id": "230463fb",
   "metadata": {},
   "outputs": [],
   "source": [
    "# Do the same as above, split by platform\n",
    "df[~df.payment_page_accessed_at.isna()].groupby(#TODO)[#TODO].agg(#TODO)"
   ]
  },
  {
   "cell_type": "code",
   "execution_count": null,
   "id": "32267024",
   "metadata": {},
   "outputs": [],
   "source": [
    "# What percent of all payments ended up in an error?\n",
    "df[df.converted]\\\n",
    "    .assign(was_error = #TODO)\\\n",
    "    .groupby('platform_clean')['was_error']\\\n",
    "    .agg(['mean', 'std'])"
   ]
  },
  {
   "cell_type": "code",
   "execution_count": null,
   "id": "1b7eb727",
   "metadata": {},
   "outputs": [],
   "source": [
    "# Is there one payment method in particular that is performing worse than others in terms of error rates?\n",
    "df[df.converted].assign(was_error = #TODO).groupby(#TODO)[#TODO].agg(['mean', 'std'])"
   ]
  },
  {
   "cell_type": "markdown",
   "id": "72e494a4",
   "metadata": {},
   "source": [
    "**What are some metrics that could be useful to evaluate adding a new payment method?**\n",
    "- Think of the action that we want to drive or the problem that we need to solve. \n",
    "\n",
    "_________\n",
    "\n",
    "Now we can finally just use the relevant data!!!\n",
    "\n",
    "**Step 1**\n",
    "\n",
    "Keep only the data you want to use. That is, filter down to country in [IT, ES] and platform in [android, ios].\n",
    "\n",
    "\n",
    "**Step 2** \n",
    "\n",
    "Calculate and visualize over time:\n",
    "\n",
    "- Visit > payment rate\n",
    "- Visit > successful payment rate\n",
    "- Cart visit > payment rate\n",
    "- Cart visit > successful payment rate\n",
    "- Average order volume (cart size) processed (purchased)\n",
    "- % of purchases that fail (`status`=\"error\")\n",
    "\n",
    "**Thought exercise: what do you think could be a reasonable effects size for each of the above?**"
   ]
  },
  {
   "cell_type": "code",
   "execution_count": null,
   "id": "fba85d54",
   "metadata": {},
   "outputs": [],
   "source": [
    "# Create a subset of all the data, with only what you want to use in the end. \n",
    "subset = #TODO\n",
    "subset.shape"
   ]
  },
  {
   "cell_type": "markdown",
   "id": "4726b316",
   "metadata": {},
   "source": [
    "**Calculate all the above metrics**"
   ]
  },
  {
   "cell_type": "code",
   "execution_count": null,
   "id": "a31e241a",
   "metadata": {},
   "outputs": [],
   "source": [
    "# Visit > payment rate and visit > successful payment rate\n",
    "visit_to_payment_rate_over_time = #TODO"
   ]
  },
  {
   "cell_type": "code",
   "execution_count": null,
   "id": "e18a022a",
   "metadata": {},
   "outputs": [],
   "source": [
    "visit_to_payment_rate_over_time.head()"
   ]
  },
  {
   "cell_type": "code",
   "execution_count": null,
   "id": "2ef6e959",
   "metadata": {},
   "outputs": [],
   "source": [
    "# Cart visit > payment rate and Cart visit > successful payment rate\n",
    "\n",
    "cart_visit_to_payment_rate_over_time = #TODO\n",
    "cart_visit_to_payment_rate_over_time"
   ]
  },
  {
   "cell_type": "code",
   "execution_count": null,
   "id": "6fdd062c",
   "metadata": {},
   "outputs": [],
   "source": [
    "cart_visit_to_payment_rate = #TODO\n",
    "cart_visit_to_payment_rate"
   ]
  },
  {
   "cell_type": "code",
   "execution_count": null,
   "id": "495ca8fe",
   "metadata": {},
   "outputs": [],
   "source": [
    "# Average order volume processed\n",
    "avg_order_size_over_time = #TODO\n",
    "avg_order_size_over_time"
   ]
  },
  {
   "cell_type": "markdown",
   "id": "62f0b82a",
   "metadata": {},
   "source": [
    "## Task 2: Determine how long the test will need to be run for\n",
    "\n",
    "Now that we've explored some possible metrics, let's try to estimate how many samples we would need in order to detect the desired effect size in each. For simplicity, let's assume that you are still debating between using as the **primary decision metric**: \n",
    "\n",
    "- Visit > payment rate\n",
    "- Cart visit > successful payment rate\n",
    "\n",
    "**Thought exercise: What are the pros and cons of each?**"
   ]
  },
  {
   "cell_type": "markdown",
   "id": "5dbbdffa",
   "metadata": {},
   "source": [
    "**Visit > payment rate**\n",
    "\n",
    "Pros:\n",
    "\n",
    "- just `visit` has a lot more traffic than `cart_visit`\n",
    "- might be more closely related to high-level metrics tracked by the business, such as \"visit > sale\"\n",
    "\n",
    "Cons:\n",
    "\n",
    "- the baseline conversion rate is quite small, so it will be harder to detect the same effect size as with a metric where the conversion rate is higher\n",
    "- the actual experiment is implemented on the payment page / cart, so you should see no impact at all on visit > cart (unless it's advertised earlier in the funnel), effectively watering down the results  of the specific experiment. \n",
    "- does not take into account if the actual payment failed, only that the user attemped to make a payment\n",
    "\n",
    "**Cart visit > successful payment rate**\n",
    "\n",
    "Pros: \n",
    "\n",
    "- directly measures what the experiment is trying to capture: \"does adding a new payment method make people more likely to successfully purchase?\"\n",
    "- baseline conversion will be higher than if you were starting from `visit`, which means you need fewer samples to detect the same effect size. \n",
    "- accounts for errors or failures of the existing payment methods\n",
    "\n",
    "Cons: \n",
    "\n",
    "- the `cart_visit` volume will be lower, so you need to balance that out with the conversion rate. \n",
    "- does not directly translate to the high-level business metrics (such as \"visit > sale\") "
   ]
  },
  {
   "cell_type": "markdown",
   "id": "991d9608",
   "metadata": {},
   "source": [
    "**Define your inputs**\n",
    "\n",
    "See the typical formula\n",
    "\n",
    "![sample_size](../img/sample_size_formula.png)"
   ]
  },
  {
   "cell_type": "code",
   "execution_count": null,
   "id": "b17b4507",
   "metadata": {},
   "outputs": [],
   "source": [
    "power = 0.8\n",
    "alpha = 0.05\n",
    "p_1 = #TODO\n",
    "p_2 = #TODO\n",
    "\n",
    "rel_effect_sizes = [0.01, 0.02, 0.05, 0.1, 0.2, 0.3, 0.5]"
   ]
  },
  {
   "cell_type": "markdown",
   "id": "272da642",
   "metadata": {},
   "source": [
    "**What is a reasonable daily average traffic to assume?**\n",
    "- Hint: the T-test assumes that observations are independent of each other. But what if a user comes in multiple times?"
   ]
  },
  {
   "cell_type": "code",
   "execution_count": null,
   "id": "83acd883",
   "metadata": {},
   "outputs": [],
   "source": [
    "# Calculate average daily traffic for Visit > payment rate metric\n",
    "traffic_1 = #TODO\n",
    "\n",
    "# Calculate average daily traffic for Cart visit > successful payment rate metric\n",
    "traffic_2 = #TODO"
   ]
  },
  {
   "cell_type": "code",
   "execution_count": null,
   "id": "ec11c396",
   "metadata": {},
   "outputs": [],
   "source": [
    "print(f\"Visit > payment has a baseline of {p_1:.2%} and there are {traffic_1:.2f} visits per day\")\n",
    "print(f\"Cart visit > successful payment has a baseline of {p_2:.2%} and there are {traffic_2:.2f} visits per day\")"
   ]
  },
  {
   "cell_type": "markdown",
   "id": "3f340a12",
   "metadata": {},
   "source": [
    "**What is the number of observations you need to measure effect size Delta, for each of the metrics?**\n",
    "\n",
    "Here we will finally use `statsmodels` to calculate the desired effect size. \n",
    "\n",
    "We will use [`statsmodels.stats.power.tt_ind_solve_power`](https://www.statsmodels.org/dev/generated/statsmodels.stats.power.tt_ind_solve_power.html), which is a pretty neat method in `statsmodels` that outputs whatever is missing from the following: \n",
    "- alpha\n",
    "- power\n",
    "- n observations\n",
    "- standardized_effect_size\n",
    "\n",
    "Note that the effect size has to be expressed as: \"difference between the two means divided by the standard deviation\". In the case of the binomial distribution (which is the case here), the standard deviation is equal to `sqrt(p*(1-p))`. We will write a custom function to help us with that transformation. "
   ]
  },
  {
   "cell_type": "code",
   "execution_count": null,
   "id": "c0896080",
   "metadata": {},
   "outputs": [],
   "source": [
    "from statsmodels.stats.power import tt_ind_solve_power\n",
    "import math"
   ]
  },
  {
   "cell_type": "code",
   "execution_count": null,
   "id": "16b8d198",
   "metadata": {},
   "outputs": [],
   "source": [
    "def get_effect_size_proportions(diff: float, p:float):\n",
    "    \"\"\"Gets appropriately transformed effect size for proportions. This means\n",
    "    absolute difference between the two means divided by the standard deviation\"\"\"\n",
    "    return #TODO"
   ]
  },
  {
   "cell_type": "code",
   "execution_count": null,
   "id": "b47c8283",
   "metadata": {},
   "outputs": [],
   "source": [
    "def calculate_power_table(p_baseline:float, \n",
    "                          rel_effect_sizes: list, \n",
    "                          daily_visitors:float, \n",
    "                          power:float=0.8, \n",
    "                          alpha:float=0.05):\n",
    "    \"\"\"Generates a table showing the expected duration of the experiment for different effect sizes,\n",
    "    given an provided daily traffic rate. Assumes traffic remains constant over the duration of the\n",
    "    experiment.\"\"\"\n",
    "    abs_effect_sizes = #TODO\n",
    "    transformed_effect_sizes = #TODO\n",
    "    \n",
    "    sample_sizes = #TODO\n",
    "    durations_days = #TODO\n",
    "    durations_weeks = #TODO\n",
    "    \n",
    "    return pd.DataFrame({'baseline': p_baseline,\n",
    "                         'rel_effect_size': rel_effect_sizes,\n",
    "                         'abs_effect_size': abs_effect_sizes,\n",
    "                         'alpha': alpha,\n",
    "                         'power': power,\n",
    "                         'sample_size_required': sample_sizes,\n",
    "                         'days_required': durations_days,\n",
    "                         'weeks_required': durations_weeks})\n",
    "    "
   ]
  },
  {
   "cell_type": "code",
   "execution_count": null,
   "id": "ac698004",
   "metadata": {},
   "outputs": [],
   "source": [
    "# print table for Visit > payment rate\n",
    "calculate_power_table(p_baseline=p_1,\n",
    "                      rel_effect_sizes=rel_effect_sizes,\n",
    "                      daily_visitors=traffic_1,\n",
    "                      power=power,\n",
    "                      alpha=alpha)"
   ]
  },
  {
   "cell_type": "code",
   "execution_count": null,
   "id": "1a52f67e",
   "metadata": {},
   "outputs": [],
   "source": [
    "# print table Cart visit > successful payment rate\n",
    "calculate_power_table(p_baseline=p_2,\n",
    "                      rel_effect_sizes=rel_effect_sizes,\n",
    "                      daily_visitors=traffic_2,\n",
    "                      power=power,\n",
    "                      alpha=alpha)"
   ]
  },
  {
   "cell_type": "markdown",
   "id": "a10d52aa",
   "metadata": {},
   "source": [
    "**Put it all together**\n",
    "\n",
    "Based on the discussion above, what would you recommend?\n",
    "\n",
    "- There is no black or white answer here.\n",
    "- Personally, I would lean more towards the `Cart visit > successful payment rate` metric as the primary decision metric for the experiment, as this is the behaviour we want to directly influence through this experiment. \n",
    "- We can always use the other metrics as secondary or supportive metrics. You can read more about how Optimizely, one of the most popular experimentation SaaS platforms, suggests you define primary and secondary metrics and monitoring goals (\"do no harm\"): [Primary and secondary metrics and monitoring goals](https://support.optimizely.com/hc/en-us/articles/4410283160205-Primary-and-secondary-metrics-and-monitoring-goals) "
   ]
  },
  {
   "cell_type": "markdown",
   "id": "b9590fb0",
   "metadata": {},
   "source": [
    "## Task 3: Finalize the experiment plan\n",
    "\n",
    "Here, simply write down what you are going to propose to the product manager. \n",
    "\n",
    "- Experiment name: \n",
    "- Hypothesis formulation:\n",
    "- Platform: \n",
    "- Users targeted:\n",
    "- Primary decision metric:\n",
    "- Baseline of this metric in the last {} months:\n",
    "- Expected effect size (relative): \n",
    "- Expected experiment duration: "
   ]
  },
  {
   "cell_type": "code",
   "execution_count": null,
   "id": "5f3e0770",
   "metadata": {},
   "outputs": [],
   "source": []
  }
 ],
 "metadata": {
  "kernelspec": {
   "display_name": "pyconit",
   "language": "python",
   "name": "pyconit"
  },
  "language_info": {
   "codemirror_mode": {
    "name": "ipython",
    "version": 3
   },
   "file_extension": ".py",
   "mimetype": "text/x-python",
   "name": "python",
   "nbconvert_exporter": "python",
   "pygments_lexer": "ipython3",
   "version": "3.8.9"
  }
 },
 "nbformat": 4,
 "nbformat_minor": 5
}
